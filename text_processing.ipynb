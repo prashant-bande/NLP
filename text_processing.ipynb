{
 "cells": [
  {
   "cell_type": "markdown",
   "metadata": {},
   "source": [
    "# Text Processing\n",
    "\n",
    "## Capturing Text Data\n",
    "\n",
    "### Plain Text"
   ]
  },
  {
   "cell_type": "code",
   "execution_count": 1,
   "metadata": {},
   "outputs": [
    {
     "name": "stdout",
     "output_type": "stream",
     "text": [
      "Hieroglyphic writing dates from c. 3000 BC, and is composed of hundreds of symbols. A hieroglyph can represent a word, a sound, or a silent determinative; and the same symbol can serve different purposes in different contexts. Hieroglyphs were a formal script, used on stone monuments and in tombs, that could be as detailed as individual works of art.\n",
      "\n"
     ]
    }
   ],
   "source": [
    "import os\n",
    "\n",
    "# Read in a plain text file\n",
    "with open(os.path.join(\"data\", \"hieroglyph.txt\"), \"r\") as f:\n",
    "    text = f.read()\n",
    "    print(text)"
   ]
  },
  {
   "cell_type": "markdown",
   "metadata": {},
   "source": [
    "### Tabular Data"
   ]
  },
  {
   "cell_type": "code",
   "execution_count": 2,
   "metadata": {
    "scrolled": true
   },
   "outputs": [
    {
     "data": {
      "text/html": [
       "<div>\n",
       "<style scoped>\n",
       "    .dataframe tbody tr th:only-of-type {\n",
       "        vertical-align: middle;\n",
       "    }\n",
       "\n",
       "    .dataframe tbody tr th {\n",
       "        vertical-align: top;\n",
       "    }\n",
       "\n",
       "    .dataframe thead th {\n",
       "        text-align: right;\n",
       "    }\n",
       "</style>\n",
       "<table border=\"1\" class=\"dataframe\">\n",
       "  <thead>\n",
       "    <tr style=\"text-align: right;\">\n",
       "      <th></th>\n",
       "      <th>publisher</th>\n",
       "      <th>title</th>\n",
       "    </tr>\n",
       "  </thead>\n",
       "  <tbody>\n",
       "    <tr>\n",
       "      <th>0</th>\n",
       "      <td>Livemint</td>\n",
       "      <td>Fed's Charles Plosser sees high bar for change...</td>\n",
       "    </tr>\n",
       "    <tr>\n",
       "      <th>1</th>\n",
       "      <td>IFA Magazine</td>\n",
       "      <td>US open: Stocks fall after Fed official hints ...</td>\n",
       "    </tr>\n",
       "    <tr>\n",
       "      <th>2</th>\n",
       "      <td>IFA Magazine</td>\n",
       "      <td>Fed risks falling 'behind the curve', Charles ...</td>\n",
       "    </tr>\n",
       "    <tr>\n",
       "      <th>3</th>\n",
       "      <td>Moneynews</td>\n",
       "      <td>Fed's Plosser: Nasty Weather Has Curbed Job Gr...</td>\n",
       "    </tr>\n",
       "    <tr>\n",
       "      <th>4</th>\n",
       "      <td>NASDAQ</td>\n",
       "      <td>Plosser: Fed May Have to Accelerate Tapering Pace</td>\n",
       "    </tr>\n",
       "  </tbody>\n",
       "</table>\n",
       "</div>"
      ],
      "text/plain": [
       "      publisher                                              title\n",
       "0      Livemint  Fed's Charles Plosser sees high bar for change...\n",
       "1  IFA Magazine  US open: Stocks fall after Fed official hints ...\n",
       "2  IFA Magazine  Fed risks falling 'behind the curve', Charles ...\n",
       "3     Moneynews  Fed's Plosser: Nasty Weather Has Curbed Job Gr...\n",
       "4        NASDAQ  Plosser: Fed May Have to Accelerate Tapering Pace"
      ]
     },
     "execution_count": 2,
     "metadata": {},
     "output_type": "execute_result"
    }
   ],
   "source": [
    "import pandas as pd\n",
    "\n",
    "# Extract text column from a dataframe\n",
    "df = pd.read_csv(os.path.join(\"data\", \"news.csv\"))\n",
    "df.head()[['publisher', 'title']]"
   ]
  },
  {
   "cell_type": "code",
   "execution_count": 3,
   "metadata": {},
   "outputs": [
    {
     "data": {
      "text/html": [
       "<div>\n",
       "<style scoped>\n",
       "    .dataframe tbody tr th:only-of-type {\n",
       "        vertical-align: middle;\n",
       "    }\n",
       "\n",
       "    .dataframe tbody tr th {\n",
       "        vertical-align: top;\n",
       "    }\n",
       "\n",
       "    .dataframe thead th {\n",
       "        text-align: right;\n",
       "    }\n",
       "</style>\n",
       "<table border=\"1\" class=\"dataframe\">\n",
       "  <thead>\n",
       "    <tr style=\"text-align: right;\">\n",
       "      <th></th>\n",
       "      <th>publisher</th>\n",
       "      <th>title</th>\n",
       "    </tr>\n",
       "  </thead>\n",
       "  <tbody>\n",
       "    <tr>\n",
       "      <th>0</th>\n",
       "      <td>Livemint</td>\n",
       "      <td>fed's charles plosser sees high bar for change...</td>\n",
       "    </tr>\n",
       "    <tr>\n",
       "      <th>1</th>\n",
       "      <td>IFA Magazine</td>\n",
       "      <td>us open: stocks fall after fed official hints ...</td>\n",
       "    </tr>\n",
       "    <tr>\n",
       "      <th>2</th>\n",
       "      <td>IFA Magazine</td>\n",
       "      <td>fed risks falling 'behind the curve', charles ...</td>\n",
       "    </tr>\n",
       "    <tr>\n",
       "      <th>3</th>\n",
       "      <td>Moneynews</td>\n",
       "      <td>fed's plosser: nasty weather has curbed job gr...</td>\n",
       "    </tr>\n",
       "    <tr>\n",
       "      <th>4</th>\n",
       "      <td>NASDAQ</td>\n",
       "      <td>plosser: fed may have to accelerate tapering pace</td>\n",
       "    </tr>\n",
       "  </tbody>\n",
       "</table>\n",
       "</div>"
      ],
      "text/plain": [
       "      publisher                                              title\n",
       "0      Livemint  fed's charles plosser sees high bar for change...\n",
       "1  IFA Magazine  us open: stocks fall after fed official hints ...\n",
       "2  IFA Magazine  fed risks falling 'behind the curve', charles ...\n",
       "3     Moneynews  fed's plosser: nasty weather has curbed job gr...\n",
       "4        NASDAQ  plosser: fed may have to accelerate tapering pace"
      ]
     },
     "execution_count": 3,
     "metadata": {},
     "output_type": "execute_result"
    }
   ],
   "source": [
    "# Convert text column to lowercase\n",
    "df['title'] = df['title'].str.lower()\n",
    "df.head()[['publisher', 'title']]"
   ]
  },
  {
   "cell_type": "markdown",
   "metadata": {},
   "source": [
    "### Online Resource"
   ]
  },
  {
   "cell_type": "code",
   "execution_count": 4,
   "metadata": {
    "scrolled": true
   },
   "outputs": [
    {
     "name": "stdout",
     "output_type": "stream",
     "text": [
      "{\n",
      "    \"success\": {\n",
      "        \"total\": 1\n",
      "    },\n",
      "    \"contents\": {\n",
      "        \"quotes\": [\n",
      "            {\n",
      "                \"quote\": \"He who is not courageous enough to take risks will accomplish nothing in life.\",\n",
      "                \"length\": \"78\",\n",
      "                \"author\": \"Mohamad Ali\",\n",
      "                \"tags\": [\n",
      "                    \"courage\",\n",
      "                    \"inspire\",\n",
      "                    \"risk\",\n",
      "                    \"tod\"\n",
      "                ],\n",
      "                \"category\": \"inspire\",\n",
      "                \"date\": \"2019-09-25\",\n",
      "                \"permalink\": \"https://theysaidso.com/quote/mohamad-ali-he-who-is-not-courageous-enough-to-take-risks-will-accomplish-nothin\",\n",
      "                \"title\": \"Inspiring Quote of the day\",\n",
      "                \"background\": \"https://theysaidso.com/img/bgs/man_on_the_mountain.jpg\",\n",
      "                \"id\": \"ifuqTGVbNWPSJIzhrGQakQeF\"\n",
      "            }\n",
      "        ],\n",
      "        \"copyright\": \"2017-19 theysaidso.com\"\n",
      "    }\n",
      "}\n",
      "He who is not courageous enough to take risks will accomplish nothing in life. \n",
      "-- Mohamad Ali\n"
     ]
    }
   ],
   "source": [
    "import requests\n",
    "import json\n",
    "\n",
    "# Fetch data from a REST API\n",
    "r = requests.get(\n",
    "    \"https://quotes.rest/qod.json\")\n",
    "res = r.json()\n",
    "print(json.dumps(res, indent=4))\n",
    "\n",
    "# Extract relevant object and field\n",
    "q = res[\"contents\"][\"quotes\"][0]\n",
    "print(q[\"quote\"], \"\\n--\", q[\"author\"])"
   ]
  },
  {
   "cell_type": "markdown",
   "metadata": {},
   "source": [
    "## Cleaning"
   ]
  },
  {
   "cell_type": "code",
   "execution_count": 5,
   "metadata": {
    "scrolled": true
   },
   "outputs": [
    {
     "name": "stdout",
     "output_type": "stream",
     "text": [
      "<html op=\"news\"><head><meta name=\"referrer\" content=\"origin\"><meta name=\"viewport\" content=\"width=device-width, initial-scale=1.0\"><link rel=\"stylesheet\" type=\"text/css\" href=\"news.css?mMQLXdwQ0VfPpDlp9bBK\">\n",
      "            <link rel=\"shortcut icon\" href=\"favicon.ico\">\n",
      "          <link rel=\"alternate\" type=\"application/rss+xml\" title=\"RSS\" href=\"rss\">\n",
      "        <title>Hacker News</title></head><body><center><table id=\"hnmain\" border=\"0\" cellpadding=\"0\" cellspacing=\"0\" width=\"85%\" bgcolor=\"#f6f6ef\">\n",
      "        <tr><td bgcolor=\"#ff6600\"><table border=\"0\" cellpadding=\"0\" cellspacing=\"0\" width=\"100%\" style=\"padding:2px\"><tr><td style=\"width:18px;padding-right:4px\"><a href=\"https://news.ycombinator.com\"><img src=\"y18.gif\" width=\"18\" height=\"18\" style=\"border:1px white solid;\"></a></td>\n",
      "                  <td style=\"line-height:12pt; height:10px;\"><span class=\"pagetop\"><b class=\"hnname\"><a href=\"news\">Hacker News</a></b>\n",
      "              <a href=\"newest\">new</a> | <a href=\"front\">past</a> | <a href=\"newcomments\">comments</a> | <a href=\"ask\">ask</a> | <a href=\"show\">show</a> | <a href=\"jobs\">jobs</a> | <a href=\"submit\">submit</a>            </span></td><td style=\"text-align:right;padding-right:4px;\"><span class=\"pagetop\">\n",
      "                              <a href=\"login?goto=news\">login</a>\n",
      "                          </span></td>\n",
      "              </tr></table></td></tr>\n",
      "<tr id=\"pagespace\" title=\"\" style=\"height:10px\"></tr><tr><td><table border=\"0\" cellpadding=\"0\" cellspacing=\"0\" class=\"itemlist\">\n",
      "              <tr class='athing' id='21064942'>\n",
      "      <td align=\"right\" valign=\"top\" class=\"title\"><span class=\"rank\">1.</span></td>      <td valign=\"top\" class=\"votelinks\"><center><a id='up_21064942' href='vote?id=21064942&amp;how=up&amp;goto=news'><div class='votearrow' title='upvote'></div></a></center></td><td class=\"title\"><a href=\"https://www.seattletimes.com/seattle-news/bike-crash-left-spokane-man-unconscious-but-his-apple-watch-called-911\" class=\"storylink\">Bike crash left Spokane man unconscious, so his Apple Watch called 911</a><span class=\"sitebit comhead\"> (<a href=\"from?site=seattletimes.com\"><span class=\"sitestr\">seattletimes.com</span></a>)</span></td></tr><tr><td colspan=\"2\"></td><td class=\"subtext\">\n",
      "        <span class=\"score\" id=\"score_21064942\">706 points</span> by <a href=\"user?id=throwaway413\" class=\"hnuser\">throwaway413</a> <span class=\"age\"><a href=\"item?id=21064942\">9 hours ago</a></span> <span id=\"unv_21064942\"></span> | <a href=\"hide?id=21064942&amp;goto=news\">hide</a> | <a href=\"item?id=21064942\">413&nbsp;comments</a>              </td></tr>\n",
      "      <tr class=\"spacer\" style=\"height:5px\"></tr>\n",
      "                <tr class='athing' id='21062180'>\n",
      "      <td align=\"right\" valign=\"top\" class=\"title\"><span class=\"rank\">2.</span></td>      <td valign=\"top\" class=\"votelinks\"><center><a id='up_21062180' href='vote?id=21062180&amp;how=up&amp;goto=news'><div class='votearrow' title='upvote'></div></a></center></td><td class=\"title\"><a href=\"https://www.wsj.com/articles/neumann-expected-to-step-down-as-we-ceo-11569343912?mod=rsswn\" class=\"storylink\">WeWork’s Adam Neumann Steps Down as CEO</a><span class=\"sitebit comhead\"> (<a href=\"from?site=wsj.com\"><span class=\"sitestr\">wsj.com</span></a>)</span></td></tr><tr><td colspan=\"2\"></td><td class=\"subtext\">\n",
      "        <span class=\"score\" id=\"score_21062180\">625 points</span> by <a href=\"user?id=mudil\" class=\"hnuser\">mudil</a> <span class=\"age\"><a href=\"item?id=21062180\">14 hours ago</a></span> <span id=\"unv_21062180\"></span> | <a href=\"hide?id=21062180&amp;goto=news\">hide</a> | <a href=\"item?id=21062180\">471&nbsp;comments</a>              </td></tr>\n",
      "      <tr class=\"spacer\" style=\"height:5px\"></tr>\n",
      "                <tr class='athing' id='21064911'>\n",
      "      <td align=\"right\" valign=\"top\" class=\"title\"><span class=\"rank\">3.</span></td>      <td valign=\"top\" class=\"votelinks\"><center><a id='up_21064911' href='vote?id=21064911&amp;how=up&amp;goto=news'><div class='votearrow' title='upvote'></div></a></center></td><td class=\"title\"><a href=\"https://chromium.googlesource.com/v8/v8.git/+/0ceee9ad28c21bc4971fb237cf87eb742fc787b8%5E%21/\" class=\"storylink\">V8 adds support for top-level await</a><span class=\"sitebit comhead\"> (<a href=\"from?site=googlesource.com\"><span class=\"sitestr\">googlesource.com</span></a>)</span></td></tr><tr><td colspan=\"2\"></td><td class=\"subtext\">\n",
      "        <span class=\"score\" id=\"score_21064911\">271 points</span> by <a href=\"user?id=hayd\" class=\"hnuser\">hayd</a> <span class=\"age\"><a href=\"item?id=21064911\">9 hours ago</a></span> <span id=\"unv_21064911\"></span> | <a href=\"hide?id=21064911&amp;goto=news\">hide</a> | <a href=\"item?id=21064911\">203&nbsp;comments</a>              </td></tr>\n",
      "      <tr class=\"spacer\" style=\"height:5px\"></tr>\n",
      "                <tr class='athing' id='21067884'>\n",
      "      <td align=\"right\" valign=\"top\" class=\"title\"><span class=\"rank\">4.</span></td>      <td valign=\"top\" class=\"votelinks\"><center><a id='up_21067884' href='vote?id=21067884&amp;how=up&amp;goto=news'><div class='votearrow' title='upvote'></div></a></center></td><td class=\"title\"><a href=\"https://github.com/oracle/graal/pull/1692\" class=\"storylink\">Graal Autovectorization</a><span class=\"sitebit comhead\"> (<a href=\"from?site=github.com\"><span class=\"sitestr\">github.com</span></a>)</span></td></tr><tr><td colspan=\"2\"></td><td class=\"subtext\">\n",
      "        <span class=\"score\" id=\"score_21067884\">15 points</span> by <a href=\"user?id=luu\" class=\"hnuser\">luu</a> <span class=\"age\"><a href=\"item?id=21067884\">1 hour ago</a></span> <span id=\"unv_21067884\"></span> | <a href=\"hide?id=21067884&amp;goto=news\">hide</a> | <a href=\"item?id=21067884\">discuss</a>              </td></tr>\n",
      "      <tr class=\"spacer\" style=\"height:5px\"></tr>\n",
      "                <tr class='athing' id='21066097'>\n",
      "      <td align=\"right\" valign=\"top\" class=\"title\"><span class=\"rank\">5.</span></td>      <td valign=\"top\" class=\"votelinks\"><center><a id='up_21066097' href='vote?id=21066097&amp;how=up&amp;goto=news'><div class='votearrow' title='upvote'></div></a></center></td><td class=\"title\"><a href=\"https://www.robertxiao.ca/hacking/dsctf-2019-cpu-adventure-unknown-cpu-reversing/\" class=\"storylink\">Reverse engineering a custom CPU from a single program</a><span class=\"sitebit comhead\"> (<a href=\"from?site=robertxiao.ca\"><span class=\"sitestr\">robertxiao.ca</span></a>)</span></td></tr><tr><td colspan=\"2\"></td><td class=\"subtext\">\n",
      "        <span class=\"score\" id=\"score_21066097\">178 points</span> by <a href=\"user?id=nneonneo\" class=\"hnuser\">nneonneo</a> <span class=\"age\"><a href=\"item?id=21066097\">7 hours ago</a></span> <span id=\"unv_21066097\"></span> | <a href=\"hide?id=21066097&amp;goto=news\">hide</a> | <a href=\"item?id=21066097\">13&nbsp;comments</a>              </td></tr>\n",
      "      <tr class=\"spacer\" style=\"height:5px\"></tr>\n",
      "                <tr class='athing' id='21064663'>\n",
      "      <td align=\"right\" valign=\"top\" class=\"title\"><span class=\"rank\">6.</span></td>      <td valign=\"top\" class=\"votelinks\"><center><a id='up_21064663' href='vote?id=21064663&amp;how=up&amp;goto=news'><div class='votearrow' title='upvote'></div></a></center></td><td class=\"title\"><a href=\"https://mrmacintosh.com/google-chrome-keystone-is-modifying-var-symlink-on-non-sip-macs-causing-boot-issues/\" class=\"storylink\">Google Chrome Keystone is modifying /var symlink on non SIP Macs causing k-panic</a><span class=\"sitebit comhead\"> (<a href=\"from?site=mrmacintosh.com\"><span class=\"sitestr\">mrmacintosh.com</span></a>)</span></td></tr><tr><td colspan=\"2\"></td><td class=\"subtext\">\n",
      "        <span class=\"score\" id=\"score_21064663\">269 points</span> by <a href=\"user?id=frandroid\" class=\"hnuser\">frandroid</a> <span class=\"age\"><a href=\"item?id=21064663\">9 hours ago</a></span> <span id=\"unv_21064663\"></span> | <a href=\"hide?id=21064663&amp;goto=news\">hide</a> | <a href=\"item?id=21064663\">155&nbsp;comments</a>              </td></tr>\n",
      "      <tr class=\"spacer\" style=\"height:5px\"></tr>\n",
      "                <tr class='athing' id='21065666'>\n",
      "      <td align=\"right\" valign=\"top\" class=\"title\"><span class=\"rank\">7.</span></td>      <td valign=\"top\" class=\"votelinks\"><center><a id='up_21065666' href='vote?id=21065666&amp;how=up&amp;goto=news'><div class='votearrow' title='upvote'></div></a></center></td><td class=\"title\"><a href=\"https://www.techradar.com/news/theres-one-crucial-way-tape-still-trounces-ssds-and-hard-drives-when-it-comes-to-storage\" class=\"storylink\">Tape still beats SSDs and hard drives when it comes to price per byte</a><span class=\"sitebit comhead\"> (<a href=\"from?site=techradar.com\"><span class=\"sitestr\">techradar.com</span></a>)</span></td></tr><tr><td colspan=\"2\"></td><td class=\"subtext\">\n",
      "        <span class=\"score\" id=\"score_21065666\">124 points</span> by <a href=\"user?id=jaytaylor\" class=\"hnuser\">jaytaylor</a> <span class=\"age\"><a href=\"item?id=21065666\">7 hours ago</a></span> <span id=\"unv_21065666\"></span> | <a href=\"hide?id=21065666&amp;goto=news\">hide</a> | <a href=\"item?id=21065666\">107&nbsp;comments</a>              </td></tr>\n",
      "      <tr class=\"spacer\" style=\"height:5px\"></tr>\n",
      "                <tr class='athing' id='21062799'>\n",
      "      <td align=\"right\" valign=\"top\" class=\"title\"><span class=\"rank\">8.</span></td>      <td valign=\"top\" class=\"votelinks\"><center><a id='up_21062799' href='vote?id=21062799&amp;how=up&amp;goto=news'><div class='votearrow' title='upvote'></div></a></center></td><td class=\"title\"><a href=\"https://github.com/ossu/computer-science\" class=\"storylink\">OSSU: A path to a free self-taught education in computer science</a><span class=\"sitebit comhead\"> (<a href=\"from?site=github.com\"><span class=\"sitestr\">github.com</span></a>)</span></td></tr><tr><td colspan=\"2\"></td><td class=\"subtext\">\n",
      "        <span class=\"score\" id=\"score_21062799\">352 points</span> by <a href=\"user?id=paulygarcia\" class=\"hnuser\">paulygarcia</a> <span class=\"age\"><a href=\"item?id=21062799\">13 hours ago</a></span> <span id=\"unv_21062799\"></span> | <a href=\"hide?id=21062799&amp;goto=news\">hide</a> | <a href=\"item?id=21062799\">127&nbsp;comments</a>              </td></tr>\n",
      "      <tr class=\"spacer\" style=\"height:5px\"></tr>\n",
      "                <tr class='athing' id='21067898'>\n",
      "      <td align=\"right\" valign=\"top\" class=\"title\"><span class=\"rank\">9.</span></td>      <td valign=\"top\" class=\"votelinks\"><center><a id='up_21067898' href='vote?id=21067898&amp;how=up&amp;goto=news'><div class='votearrow' title='upvote'></div></a></center></td><td class=\"title\"><a href=\"https://casereports.bmj.com/content/12/9/e230065.full\" class=\"storylink\">Woman who mistook wasabi for avocado hospitalized with 'broken heart syndrome’</a><span class=\"sitebit comhead\"> (<a href=\"from?site=bmj.com\"><span class=\"sitestr\">bmj.com</span></a>)</span></td></tr><tr><td colspan=\"2\"></td><td class=\"subtext\">\n",
      "        <span class=\"score\" id=\"score_21067898\">23 points</span> by <a href=\"user?id=johanam\" class=\"hnuser\">johanam</a> <span class=\"age\"><a href=\"item?id=21067898\">1 hour ago</a></span> <span id=\"unv_21067898\"></span> | <a href=\"hide?id=21067898&amp;goto=news\">hide</a> | <a href=\"item?id=21067898\">5&nbsp;comments</a>              </td></tr>\n",
      "      <tr class=\"spacer\" style=\"height:5px\"></tr>\n",
      "                <tr class='athing' id='21066385'>\n",
      "      <td align=\"right\" valign=\"top\" class=\"title\"><span class=\"rank\">10.</span></td>      <td valign=\"top\" class=\"votelinks\"><center><a id='up_21066385' href='vote?id=21066385&amp;how=up&amp;goto=news'><div class='votearrow' title='upvote'></div></a></center></td><td class=\"title\"><a href=\"https://blog.superhuman.com/performance-metrics-for-blazingly-fast-web-apps-ec12efa26bcb\" class=\"storylink\">Performance metrics for web apps</a><span class=\"sitebit comhead\"> (<a href=\"from?site=superhuman.com\"><span class=\"sitestr\">superhuman.com</span></a>)</span></td></tr><tr><td colspan=\"2\"></td><td class=\"subtext\">\n",
      "        <span class=\"score\" id=\"score_21066385\">113 points</span> by <a href=\"user?id=yarapavan\" class=\"hnuser\">yarapavan</a> <span class=\"age\"><a href=\"item?id=21066385\">6 hours ago</a></span> <span id=\"unv_21066385\"></span> | <a href=\"hide?id=21066385&amp;goto=news\">hide</a> | <a href=\"item?id=21066385\">16&nbsp;comments</a>              </td></tr>\n",
      "      <tr class=\"spacer\" style=\"height:5px\"></tr>\n",
      "                <tr class='athing' id='21068224'>\n",
      "      <td align=\"right\" valign=\"top\" class=\"title\"><span class=\"rank\">11.</span></td>      <td></td><td class=\"title\"><a href=\"https://scale.com/careers\" class=\"storylink\" rel=\"nofollow\">Scale AI is hiring engineers to accelerate the development of AI</a><span class=\"sitebit comhead\"> (<a href=\"from?site=scale.com\"><span class=\"sitestr\">scale.com</span></a>)</span></td></tr><tr><td colspan=\"2\"></td><td class=\"subtext\">\n",
      "        <span class=\"age\"><a href=\"item?id=21068224\">39 minutes ago</a></span> | <a href=\"hide?id=21068224&amp;goto=news\">hide</a>      </td></tr>\n",
      "      <tr class=\"spacer\" style=\"height:5px\"></tr>\n",
      "                <tr class='athing' id='21067391'>\n",
      "      <td align=\"right\" valign=\"top\" class=\"title\"><span class=\"rank\">12.</span></td>      <td valign=\"top\" class=\"votelinks\"><center><a id='up_21067391' href='vote?id=21067391&amp;how=up&amp;goto=news'><div class='votearrow' title='upvote'></div></a></center></td><td class=\"title\"><a href=\"https://www.ssa.gov/history/ssn/misused.html\" class=\"storylink\">The Most Misused SSN of All Time</a><span class=\"sitebit comhead\"> (<a href=\"from?site=ssa.gov\"><span class=\"sitestr\">ssa.gov</span></a>)</span></td></tr><tr><td colspan=\"2\"></td><td class=\"subtext\">\n",
      "        <span class=\"score\" id=\"score_21067391\">30 points</span> by <a href=\"user?id=polm23\" class=\"hnuser\">polm23</a> <span class=\"age\"><a href=\"item?id=21067391\">3 hours ago</a></span> <span id=\"unv_21067391\"></span> | <a href=\"hide?id=21067391&amp;goto=news\">hide</a> | <a href=\"item?id=21067391\">10&nbsp;comments</a>              </td></tr>\n",
      "      <tr class=\"spacer\" style=\"height:5px\"></tr>\n",
      "                <tr class='athing' id='21061515'>\n",
      "      <td align=\"right\" valign=\"top\" class=\"title\"><span class=\"rank\">13.</span></td>      <td valign=\"top\" class=\"votelinks\"><center><a id='up_21061515' href='vote?id=21061515&amp;how=up&amp;goto=news'><div class='votearrow' title='upvote'></div></a></center></td><td class=\"title\"><a href=\"https://appleinsider.com/articles/19/09/24/apple-is-evaluating-new-keyboard-mechanisms-to-make-thinner-macbooks\" class=\"storylink\">Apple is evaluating new keyboard mechanisms to make thinner MacBooks</a><span class=\"sitebit comhead\"> (<a href=\"from?site=appleinsider.com\"><span class=\"sitestr\">appleinsider.com</span></a>)</span></td></tr><tr><td colspan=\"2\"></td><td class=\"subtext\">\n",
      "        <span class=\"score\" id=\"score_21061515\">70 points</span> by <a href=\"user?id=protomyth\" class=\"hnuser\">protomyth</a> <span class=\"age\"><a href=\"item?id=21061515\">6 hours ago</a></span> <span id=\"unv_21061515\"></span> | <a href=\"hide?id=21061515&amp;goto=news\">hide</a> | <a href=\"item?id=21061515\">185&nbsp;comments</a>              </td></tr>\n",
      "      <tr class=\"spacer\" style=\"height:5px\"></tr>\n",
      "                <tr class='athing' id='21065197'>\n",
      "      <td align=\"right\" valign=\"top\" class=\"title\"><span class=\"rank\">14.</span></td>      <td valign=\"top\" class=\"votelinks\"><center><a id='up_21065197' href='vote?id=21065197&amp;how=up&amp;goto=news'><div class='votearrow' title='upvote'></div></a></center></td><td class=\"title\"><a href=\"https://icerm.brown.edu/video_archive/?play=2034\" class=\"storylink\">On Polysemous Mathematical Illustration [video]</a><span class=\"sitebit comhead\"> (<a href=\"from?site=brown.edu\"><span class=\"sitestr\">brown.edu</span></a>)</span></td></tr><tr><td colspan=\"2\"></td><td class=\"subtext\">\n",
      "        <span class=\"score\" id=\"score_21065197\">15 points</span> by <a href=\"user?id=mathgenius\" class=\"hnuser\">mathgenius</a> <span class=\"age\"><a href=\"item?id=21065197\">2 hours ago</a></span> <span id=\"unv_21065197\"></span> | <a href=\"hide?id=21065197&amp;goto=news\">hide</a> | <a href=\"item?id=21065197\">discuss</a>              </td></tr>\n",
      "      <tr class=\"spacer\" style=\"height:5px\"></tr>\n",
      "                <tr class='athing' id='21062191'>\n",
      "      <td align=\"right\" valign=\"top\" class=\"title\"><span class=\"rank\">15.</span></td>      <td valign=\"top\" class=\"votelinks\"><center><a id='up_21062191' href='vote?id=21062191&amp;how=up&amp;goto=news'><div class='votearrow' title='upvote'></div></a></center></td><td class=\"title\"><a href=\"https://stackoverflow.blog/2019/09/24/announcing-stack-overflows-new-ceo-prashanth-chandrasekar?\" class=\"storylink\">Prashanth Chandrasekar Replacing Joel Spolsky as Stack Overflow CEO</a><span class=\"sitebit comhead\"> (<a href=\"from?site=stackoverflow.blog\"><span class=\"sitestr\">stackoverflow.blog</span></a>)</span></td></tr><tr><td colspan=\"2\"></td><td class=\"subtext\">\n",
      "        <span class=\"score\" id=\"score_21062191\">302 points</span> by <a href=\"user?id=matrixunloaded\" class=\"hnuser\">matrixunloaded</a> <span class=\"age\"><a href=\"item?id=21062191\">14 hours ago</a></span> <span id=\"unv_21062191\"></span> | <a href=\"hide?id=21062191&amp;goto=news\">hide</a> | <a href=\"item?id=21062191\">148&nbsp;comments</a>              </td></tr>\n",
      "      <tr class=\"spacer\" style=\"height:5px\"></tr>\n",
      "                <tr class='athing' id='21063284'>\n",
      "      <td align=\"right\" valign=\"top\" class=\"title\"><span class=\"rank\">16.</span></td>      <td valign=\"top\" class=\"votelinks\"><center><a id='up_21063284' href='vote?id=21063284&amp;how=up&amp;goto=news'><div class='votearrow' title='upvote'></div></a></center></td><td class=\"title\"><a href=\"https://oilprice.com/Energy/Crude-Oil/Why-The-Saudis-Are-Lying-About-Their-Oil-Production.html\" class=\"storylink\">The Saudis Are Lying About Their Oil Production?</a><span class=\"sitebit comhead\"> (<a href=\"from?site=oilprice.com\"><span class=\"sitestr\">oilprice.com</span></a>)</span></td></tr><tr><td colspan=\"2\"></td><td class=\"subtext\">\n",
      "        <span class=\"score\" id=\"score_21063284\">270 points</span> by <a href=\"user?id=olivermarks\" class=\"hnuser\">olivermarks</a> <span class=\"age\"><a href=\"item?id=21063284\">12 hours ago</a></span> <span id=\"unv_21063284\"></span> | <a href=\"hide?id=21063284&amp;goto=news\">hide</a> | <a href=\"item?id=21063284\">194&nbsp;comments</a>              </td></tr>\n",
      "      <tr class=\"spacer\" style=\"height:5px\"></tr>\n",
      "                <tr class='athing' id='21064517'>\n",
      "      <td align=\"right\" valign=\"top\" class=\"title\"><span class=\"rank\">17.</span></td>      <td valign=\"top\" class=\"votelinks\"><center><a id='up_21064517' href='vote?id=21064517&amp;how=up&amp;goto=news'><div class='votearrow' title='upvote'></div></a></center></td><td class=\"title\"><a href=\"https://www.cnbc.com/2019/09/24/amazon-launches-employee-health-clinic-amazon-care.html\" class=\"storylink\">Amazon launches Amazon Care, a virtual medical clinic for employees</a><span class=\"sitebit comhead\"> (<a href=\"from?site=cnbc.com\"><span class=\"sitestr\">cnbc.com</span></a>)</span></td></tr><tr><td colspan=\"2\"></td><td class=\"subtext\">\n",
      "        <span class=\"score\" id=\"score_21064517\">85 points</span> by <a href=\"user?id=t23\" class=\"hnuser\">t23</a> <span class=\"age\"><a href=\"item?id=21064517\">10 hours ago</a></span> <span id=\"unv_21064517\"></span> | <a href=\"hide?id=21064517&amp;goto=news\">hide</a> | <a href=\"item?id=21064517\">41&nbsp;comments</a>              </td></tr>\n",
      "      <tr class=\"spacer\" style=\"height:5px\"></tr>\n",
      "                <tr class='athing' id='21067487'>\n",
      "      <td align=\"right\" valign=\"top\" class=\"title\"><span class=\"rank\">18.</span></td>      <td valign=\"top\" class=\"votelinks\"><center><a id='up_21067487' href='vote?id=21067487&amp;how=up&amp;goto=news'><div class='votearrow' title='upvote'></div></a></center></td><td class=\"title\"><a href=\"http://kyleprifogle.com/dear-startup/\" class=\"storylink\">We are clueless about how long things should take</a><span class=\"sitebit comhead\"> (<a href=\"from?site=kyleprifogle.com\"><span class=\"sitestr\">kyleprifogle.com</span></a>)</span></td></tr><tr><td colspan=\"2\"></td><td class=\"subtext\">\n",
      "        <span class=\"score\" id=\"score_21067487\">65 points</span> by <a href=\"user?id=yachtman\" class=\"hnuser\">yachtman</a> <span class=\"age\"><a href=\"item?id=21067487\">3 hours ago</a></span> <span id=\"unv_21067487\"></span> | <a href=\"hide?id=21067487&amp;goto=news\">hide</a> | <a href=\"item?id=21067487\">23&nbsp;comments</a>              </td></tr>\n",
      "      <tr class=\"spacer\" style=\"height:5px\"></tr>\n",
      "                <tr class='athing' id='21067939'>\n",
      "      <td align=\"right\" valign=\"top\" class=\"title\"><span class=\"rank\">19.</span></td>      <td valign=\"top\" class=\"votelinks\"><center><a id='up_21067939' href='vote?id=21067939&amp;how=up&amp;goto=news'><div class='votearrow' title='upvote'></div></a></center></td><td class=\"title\"><a href=\"https://blog.cryptographyengineering.com/2019/09/24/looking-back-at-the-snowden-revelations/\" class=\"storylink\" rel=\"nofollow\">Looking Back at the Snowden Revelations</a><span class=\"sitebit comhead\"> (<a href=\"from?site=cryptographyengineering.com\"><span class=\"sitestr\">cryptographyengineering.com</span></a>)</span></td></tr><tr><td colspan=\"2\"></td><td class=\"subtext\">\n",
      "        <span class=\"score\" id=\"score_21067939\">7 points</span> by <a href=\"user?id=sohkamyung\" class=\"hnuser\">sohkamyung</a> <span class=\"age\"><a href=\"item?id=21067939\">1 hour ago</a></span> <span id=\"unv_21067939\"></span> | <a href=\"hide?id=21067939&amp;goto=news\">hide</a> | <a href=\"item?id=21067939\">discuss</a>              </td></tr>\n",
      "      <tr class=\"spacer\" style=\"height:5px\"></tr>\n",
      "                <tr class='athing' id='21065324'>\n",
      "      <td align=\"right\" valign=\"top\" class=\"title\"><span class=\"rank\">20.</span></td>      <td valign=\"top\" class=\"votelinks\"><center><a id='up_21065324' href='vote?id=21065324&amp;how=up&amp;goto=news'><div class='votearrow' title='upvote'></div></a></center></td><td class=\"title\"><a href=\"http://blogs.discovermagazine.com/crux/2018/06/07/in-russia-spacecraft-land-in-your-backyard/\" class=\"storylink\">In Russia’s Space Graveyard, Locals Scavenge Fallen Spacecraft (2018)</a><span class=\"sitebit comhead\"> (<a href=\"from?site=discovermagazine.com\"><span class=\"sitestr\">discovermagazine.com</span></a>)</span></td></tr><tr><td colspan=\"2\"></td><td class=\"subtext\">\n",
      "        <span class=\"score\" id=\"score_21065324\">68 points</span> by <a href=\"user?id=justincormack\" class=\"hnuser\">justincormack</a> <span class=\"age\"><a href=\"item?id=21065324\">8 hours ago</a></span> <span id=\"unv_21065324\"></span> | <a href=\"hide?id=21065324&amp;goto=news\">hide</a> | <a href=\"item?id=21065324\">17&nbsp;comments</a>              </td></tr>\n",
      "      <tr class=\"spacer\" style=\"height:5px\"></tr>\n",
      "                <tr class='athing' id='21064005'>\n",
      "      <td align=\"right\" valign=\"top\" class=\"title\"><span class=\"rank\">21.</span></td>      <td valign=\"top\" class=\"votelinks\"><center><a id='up_21064005' href='vote?id=21064005&amp;how=up&amp;goto=news'><div class='votearrow' title='upvote'></div></a></center></td><td class=\"title\"><a href=\"https://www.nytimes.com/2019/09/20/business/liberal-arts-stem-salaries.html\" class=\"storylink\">In the Salary Race, Engineers Sprint but English Majors Endure</a><span class=\"sitebit comhead\"> (<a href=\"from?site=nytimes.com\"><span class=\"sitestr\">nytimes.com</span></a>)</span></td></tr><tr><td colspan=\"2\"></td><td class=\"subtext\">\n",
      "        <span class=\"score\" id=\"score_21064005\">28 points</span> by <a href=\"user?id=tlb\" class=\"hnuser\">tlb</a> <span class=\"age\"><a href=\"item?id=21064005\">5 hours ago</a></span> <span id=\"unv_21064005\"></span> | <a href=\"hide?id=21064005&amp;goto=news\">hide</a> | <a href=\"item?id=21064005\">31&nbsp;comments</a>              </td></tr>\n",
      "      <tr class=\"spacer\" style=\"height:5px\"></tr>\n",
      "                <tr class='athing' id='21059452'>\n",
      "      <td align=\"right\" valign=\"top\" class=\"title\"><span class=\"rank\">22.</span></td>      <td valign=\"top\" class=\"votelinks\"><center><a id='up_21059452' href='vote?id=21059452&amp;how=up&amp;goto=news'><div class='votearrow' title='upvote'></div></a></center></td><td class=\"title\"><a href=\"https://www.theguardian.com/world/2019/sep/24/woman-discovers-renaissance-masterpiece-in-her-kitchen\" class=\"storylink\">Woman discovers Renaissance masterpiece in kitchen</a><span class=\"sitebit comhead\"> (<a href=\"from?site=theguardian.com\"><span class=\"sitestr\">theguardian.com</span></a>)</span></td></tr><tr><td colspan=\"2\"></td><td class=\"subtext\">\n",
      "        <span class=\"score\" id=\"score_21059452\">10 points</span> by <a href=\"user?id=pionerkotik\" class=\"hnuser\">pionerkotik</a> <span class=\"age\"><a href=\"item?id=21059452\">2 hours ago</a></span> <span id=\"unv_21059452\"></span> | <a href=\"hide?id=21059452&amp;goto=news\">hide</a> | <a href=\"item?id=21059452\">2&nbsp;comments</a>              </td></tr>\n",
      "      <tr class=\"spacer\" style=\"height:5px\"></tr>\n",
      "                <tr class='athing' id='21065272'>\n",
      "      <td align=\"right\" valign=\"top\" class=\"title\"><span class=\"rank\">23.</span></td>      <td valign=\"top\" class=\"votelinks\"><center><a id='up_21065272' href='vote?id=21065272&amp;how=up&amp;goto=news'><div class='votearrow' title='upvote'></div></a></center></td><td class=\"title\"><a href=\"https://www.talos-systems.com/\" class=\"storylink\">Talos: OS for Kubernetes</a><span class=\"sitebit comhead\"> (<a href=\"from?site=talos-systems.com\"><span class=\"sitestr\">talos-systems.com</span></a>)</span></td></tr><tr><td colspan=\"2\"></td><td class=\"subtext\">\n",
      "        <span class=\"score\" id=\"score_21065272\">64 points</span> by <a href=\"user?id=stevetodd\" class=\"hnuser\">stevetodd</a> <span class=\"age\"><a href=\"item?id=21065272\">8 hours ago</a></span> <span id=\"unv_21065272\"></span> | <a href=\"hide?id=21065272&amp;goto=news\">hide</a> | <a href=\"item?id=21065272\">57&nbsp;comments</a>              </td></tr>\n",
      "      <tr class=\"spacer\" style=\"height:5px\"></tr>\n",
      "                <tr class='athing' id='21064540'>\n",
      "      <td align=\"right\" valign=\"top\" class=\"title\"><span class=\"rank\">24.</span></td>      <td valign=\"top\" class=\"votelinks\"><center><a id='up_21064540' href='vote?id=21064540&amp;how=up&amp;goto=news'><div class='votearrow' title='upvote'></div></a></center></td><td class=\"title\"><a href=\"https://www.newyorker.com/magazine/2019/09/30/four-years-in-startups\" class=\"storylink\">Four Years in Startups</a><span class=\"sitebit comhead\"> (<a href=\"from?site=newyorker.com\"><span class=\"sitestr\">newyorker.com</span></a>)</span></td></tr><tr><td colspan=\"2\"></td><td class=\"subtext\">\n",
      "        <span class=\"score\" id=\"score_21064540\">119 points</span> by <a href=\"user?id=pdog\" class=\"hnuser\">pdog</a> <span class=\"age\"><a href=\"item?id=21064540\">10 hours ago</a></span> <span id=\"unv_21064540\"></span> | <a href=\"hide?id=21064540&amp;goto=news\">hide</a> | <a href=\"item?id=21064540\">27&nbsp;comments</a>              </td></tr>\n",
      "      <tr class=\"spacer\" style=\"height:5px\"></tr>\n",
      "                <tr class='athing' id='21066821'>\n",
      "      <td align=\"right\" valign=\"top\" class=\"title\"><span class=\"rank\">25.</span></td>      <td valign=\"top\" class=\"votelinks\"><center><a id='up_21066821' href='vote?id=21066821&amp;how=up&amp;goto=news'><div class='votearrow' title='upvote'></div></a></center></td><td class=\"title\"><a href=\"https://www.zerotier.com/zerotier-2-0-status/\" class=\"storylink\">ZeroTier 2.0 Status</a><span class=\"sitebit comhead\"> (<a href=\"from?site=zerotier.com\"><span class=\"sitestr\">zerotier.com</span></a>)</span></td></tr><tr><td colspan=\"2\"></td><td class=\"subtext\">\n",
      "        <span class=\"score\" id=\"score_21066821\">30 points</span> by <a href=\"user?id=viraptor\" class=\"hnuser\">viraptor</a> <span class=\"age\"><a href=\"item?id=21066821\">5 hours ago</a></span> <span id=\"unv_21066821\"></span> | <a href=\"hide?id=21066821&amp;goto=news\">hide</a> | <a href=\"item?id=21066821\">15&nbsp;comments</a>              </td></tr>\n",
      "      <tr class=\"spacer\" style=\"height:5px\"></tr>\n",
      "                <tr class='athing' id='21060154'>\n",
      "      <td align=\"right\" valign=\"top\" class=\"title\"><span class=\"rank\">26.</span></td>      <td valign=\"top\" class=\"votelinks\"><center><a id='up_21060154' href='vote?id=21060154&amp;how=up&amp;goto=news'><div class='votearrow' title='upvote'></div></a></center></td><td class=\"title\"><a href=\"https://www.wsj.com/articles/girls-vs-boys-brain-differences-might-explain-tech-behaviors-11569317402\" class=\"storylink\">Brain research on boys’ preference for video games and girls’ for social media</a><span class=\"sitebit comhead\"> (<a href=\"from?site=wsj.com\"><span class=\"sitestr\">wsj.com</span></a>)</span></td></tr><tr><td colspan=\"2\"></td><td class=\"subtext\">\n",
      "        <span class=\"score\" id=\"score_21060154\">186 points</span> by <a href=\"user?id=bookofjoe\" class=\"hnuser\">bookofjoe</a> <span class=\"age\"><a href=\"item?id=21060154\">12 hours ago</a></span> <span id=\"unv_21060154\"></span> | <a href=\"hide?id=21060154&amp;goto=news\">hide</a> | <a href=\"item?id=21060154\">139&nbsp;comments</a>              </td></tr>\n",
      "      <tr class=\"spacer\" style=\"height:5px\"></tr>\n",
      "                <tr class='athing' id='21066665'>\n",
      "      <td align=\"right\" valign=\"top\" class=\"title\"><span class=\"rank\">27.</span></td>      <td valign=\"top\" class=\"votelinks\"><center><a id='up_21066665' href='vote?id=21066665&amp;how=up&amp;goto=news'><div class='votearrow' title='upvote'></div></a></center></td><td class=\"title\"><a href=\"https://www.seeedstudio.com/Spartan-Edge-Accelerator-Board-p-4261.html\" class=\"storylink\">Xilinx FPGA Board for Arduino</a><span class=\"sitebit comhead\"> (<a href=\"from?site=seeedstudio.com\"><span class=\"sitestr\">seeedstudio.com</span></a>)</span></td></tr><tr><td colspan=\"2\"></td><td class=\"subtext\">\n",
      "        <span class=\"score\" id=\"score_21066665\">31 points</span> by <a href=\"user?id=achuwilson\" class=\"hnuser\">achuwilson</a> <span class=\"age\"><a href=\"item?id=21066665\">5 hours ago</a></span> <span id=\"unv_21066665\"></span> | <a href=\"hide?id=21066665&amp;goto=news\">hide</a> | <a href=\"item?id=21066665\">21&nbsp;comments</a>              </td></tr>\n",
      "      <tr class=\"spacer\" style=\"height:5px\"></tr>\n",
      "                <tr class='athing' id='21065209'>\n",
      "      <td align=\"right\" valign=\"top\" class=\"title\"><span class=\"rank\">28.</span></td>      <td valign=\"top\" class=\"votelinks\"><center><a id='up_21065209' href='vote?id=21065209&amp;how=up&amp;goto=news'><div class='votearrow' title='upvote'></div></a></center></td><td class=\"title\"><a href=\"https://www.tabletmag.com/jewish-arts-and-culture/291105/americas-new-sex-bureaucracy\" class=\"storylink\">America’s New Sex Bureaucracy</a><span class=\"sitebit comhead\"> (<a href=\"from?site=tabletmag.com\"><span class=\"sitestr\">tabletmag.com</span></a>)</span></td></tr><tr><td colspan=\"2\"></td><td class=\"subtext\">\n",
      "        <span class=\"score\" id=\"score_21065209\">184 points</span> by <a href=\"user?id=hooboy\" class=\"hnuser\">hooboy</a> <span class=\"age\"><a href=\"item?id=21065209\">8 hours ago</a></span> <span id=\"unv_21065209\"></span> | <a href=\"hide?id=21065209&amp;goto=news\">hide</a> | <a href=\"item?id=21065209\">194&nbsp;comments</a>              </td></tr>\n",
      "      <tr class=\"spacer\" style=\"height:5px\"></tr>\n",
      "                <tr class='athing' id='21062977'>\n",
      "      <td align=\"right\" valign=\"top\" class=\"title\"><span class=\"rank\">29.</span></td>      <td valign=\"top\" class=\"votelinks\"><center><a id='up_21062977' href='vote?id=21062977&amp;how=up&amp;goto=news'><div class='votearrow' title='upvote'></div></a></center></td><td class=\"title\"><a href=\"item?id=21062977\" class=\"storylink\">Launch HN: Quilt – A versioned data portal for S3</a></td></tr><tr><td colspan=\"2\"></td><td class=\"subtext\">\n",
      "        <span class=\"score\" id=\"score_21062977\">143 points</span> by <a href=\"user?id=akarve\" class=\"hnuser\">akarve</a> <span class=\"age\"><a href=\"item?id=21062977\">12 hours ago</a></span> <span id=\"unv_21062977\"></span> | <a href=\"hide?id=21062977&amp;goto=news\">hide</a> | <a href=\"item?id=21062977\">56&nbsp;comments</a>              </td></tr>\n",
      "      <tr class=\"spacer\" style=\"height:5px\"></tr>\n",
      "                <tr class='athing' id='21052374'>\n",
      "      <td align=\"right\" valign=\"top\" class=\"title\"><span class=\"rank\">30.</span></td>      <td valign=\"top\" class=\"votelinks\"><center><a id='up_21052374' href='vote?id=21052374&amp;how=up&amp;goto=news'><div class='votearrow' title='upvote'></div></a></center></td><td class=\"title\"><a href=\"https://www.atlasobscura.com/articles/ancient-kush-graffiti-tombs-temple\" class=\"storylink\">El-Kurru’s Carved Graffiti Reveal Another Side of Ancient Nubia</a><span class=\"sitebit comhead\"> (<a href=\"from?site=atlasobscura.com\"><span class=\"sitestr\">atlasobscura.com</span></a>)</span></td></tr><tr><td colspan=\"2\"></td><td class=\"subtext\">\n",
      "        <span class=\"score\" id=\"score_21052374\">15 points</span> by <a href=\"user?id=prismatic\" class=\"hnuser\">prismatic</a> <span class=\"age\"><a href=\"item?id=21052374\">5 hours ago</a></span> <span id=\"unv_21052374\"></span> | <a href=\"hide?id=21052374&amp;goto=news\">hide</a> | <a href=\"item?id=21052374\">1&nbsp;comment</a>              </td></tr>\n",
      "      <tr class=\"spacer\" style=\"height:5px\"></tr>\n",
      "            <tr class=\"morespace\" style=\"height:10px\"></tr><tr><td colspan=\"2\"></td><td class=\"title\"><a href=\"news?p=2\" class=\"morelink\" rel=\"next\">More</a></td></tr>\n",
      "  </table>\n",
      "</td></tr>\n",
      "<tr><td><img src=\"s.gif\" height=\"10\" width=\"0\"><table width=\"100%\" cellspacing=\"0\" cellpadding=\"1\"><tr><td bgcolor=\"#ff6600\"></td></tr></table><br><center><a href=\"https://www.ycombinator.com/apply/\">\n",
      "        Applications are open for YC Winter 2020\n",
      "      </a></center><br><center><span class=\"yclinks\"><a href=\"newsguidelines.html\">Guidelines</a>\n",
      "        | <a href=\"newsfaq.html\">FAQ</a>\n",
      "        | <a href=\"mailto:hn@ycombinator.com\">Support</a>\n",
      "        | <a href=\"https://github.com/HackerNews/API\">API</a>\n",
      "        | <a href=\"security.html\">Security</a>\n",
      "        | <a href=\"lists\">Lists</a>\n",
      "        | <a href=\"bookmarklet.html\" rel=\"nofollow\">Bookmarklet</a>\n",
      "        | <a href=\"http://www.ycombinator.com/legal/\">Legal</a>\n",
      "        | <a href=\"http://www.ycombinator.com/apply/\">Apply to YC</a>\n",
      "        | <a href=\"mailto:hn@ycombinator.com\">Contact</a></span><br><br><form method=\"get\" action=\"//hn.algolia.com/\">Search:\n",
      "          <input type=\"text\" name=\"q\" value=\"\" size=\"17\" autocorrect=\"off\" spellcheck=\"false\" autocapitalize=\"off\" autocomplete=\"false\"></form>\n",
      "            </center></td></tr>\n",
      "      </table></center></body><script type='text/javascript' src='hn.js?mMQLXdwQ0VfPpDlp9bBK'></script>\n",
      "  </html>\n",
      "\n"
     ]
    }
   ],
   "source": [
    "import requests\n",
    "\n",
    "# Fetch a web page\n",
    "r = requests.get(\"https://news.ycombinator.com\")\n",
    "print(r.text)"
   ]
  },
  {
   "cell_type": "code",
   "execution_count": 6,
   "metadata": {},
   "outputs": [
    {
     "name": "stdout",
     "output_type": "stream",
     "text": [
      "\n",
      "            \n",
      "          \n",
      "        Hacker News\n",
      "        \n",
      "                  Hacker News\n",
      "              new | past | comments | ask | show | jobs | submit            \n",
      "                              login\n",
      "                          \n",
      "              \n",
      "\n",
      "              \n",
      "      1.      Bike crash left Spokane man unconscious, so his Apple Watch called 911 (seattletimes.com)\n",
      "        706 points by throwaway413 9 hours ago  | hide | 413&nbsp;comments              \n",
      "      \n",
      "                \n",
      "      2.      WeWork’s Adam Neumann Steps Down as CEO (wsj.com)\n",
      "        625 points by mudil 14 hours ago  | hide | 471&nbsp;comments              \n",
      "      \n",
      "                \n",
      "      3.      V8 adds support for top-level await (googlesource.com)\n",
      "        271 points by hayd 9 hours ago  | hide | 203&nbsp;comments              \n",
      "      \n",
      "                \n",
      "      4.      Graal Autovectorization (github.com)\n",
      "        15 points by luu 1 hour ago  | hide | discuss              \n",
      "      \n",
      "                \n",
      "      5.      Reverse engineering a custom CPU from a single program (robertxiao.ca)\n",
      "        178 points by nneonneo 7 hours ago  | hide | 13&nbsp;comments              \n",
      "      \n",
      "                \n",
      "      6.      Google Chrome Keystone is modifying /var symlink on non SIP Macs causing k-panic (mrmacintosh.com)\n",
      "        269 points by frandroid 9 hours ago  | hide | 155&nbsp;comments              \n",
      "      \n",
      "                \n",
      "      7.      Tape still beats SSDs and hard drives when it comes to price per byte (techradar.com)\n",
      "        124 points by jaytaylor 7 hours ago  | hide | 107&nbsp;comments              \n",
      "      \n",
      "                \n",
      "      8.      OSSU: A path to a free self-taught education in computer science (github.com)\n",
      "        352 points by paulygarcia 13 hours ago  | hide | 127&nbsp;comments              \n",
      "      \n",
      "                \n",
      "      9.      Woman who mistook wasabi for avocado hospitalized with 'broken heart syndrome’ (bmj.com)\n",
      "        23 points by johanam 1 hour ago  | hide | 5&nbsp;comments              \n",
      "      \n",
      "                \n",
      "      10.      Performance metrics for web apps (superhuman.com)\n",
      "        113 points by yarapavan 6 hours ago  | hide | 16&nbsp;comments              \n",
      "      \n",
      "                \n",
      "      11.      Scale AI is hiring engineers to accelerate the development of AI (scale.com)\n",
      "        39 minutes ago | hide      \n",
      "      \n",
      "                \n",
      "      12.      The Most Misused SSN of All Time (ssa.gov)\n",
      "        30 points by polm23 3 hours ago  | hide | 10&nbsp;comments              \n",
      "      \n",
      "                \n",
      "      13.      Apple is evaluating new keyboard mechanisms to make thinner MacBooks (appleinsider.com)\n",
      "        70 points by protomyth 6 hours ago  | hide | 185&nbsp;comments              \n",
      "      \n",
      "                \n",
      "      14.      On Polysemous Mathematical Illustration [video] (brown.edu)\n",
      "        15 points by mathgenius 2 hours ago  | hide | discuss              \n",
      "      \n",
      "                \n",
      "      15.      Prashanth Chandrasekar Replacing Joel Spolsky as Stack Overflow CEO (stackoverflow.blog)\n",
      "        302 points by matrixunloaded 14 hours ago  | hide | 148&nbsp;comments              \n",
      "      \n",
      "                \n",
      "      16.      The Saudis Are Lying About Their Oil Production? (oilprice.com)\n",
      "        270 points by olivermarks 12 hours ago  | hide | 194&nbsp;comments              \n",
      "      \n",
      "                \n",
      "      17.      Amazon launches Amazon Care, a virtual medical clinic for employees (cnbc.com)\n",
      "        85 points by t23 10 hours ago  | hide | 41&nbsp;comments              \n",
      "      \n",
      "                \n",
      "      18.      We are clueless about how long things should take (kyleprifogle.com)\n",
      "        65 points by yachtman 3 hours ago  | hide | 23&nbsp;comments              \n",
      "      \n",
      "                \n",
      "      19.      Looking Back at the Snowden Revelations (cryptographyengineering.com)\n",
      "        7 points by sohkamyung 1 hour ago  | hide | discuss              \n",
      "      \n",
      "                \n",
      "      20.      In Russia’s Space Graveyard, Locals Scavenge Fallen Spacecraft (2018) (discovermagazine.com)\n",
      "        68 points by justincormack 8 hours ago  | hide | 17&nbsp;comments              \n",
      "      \n",
      "                \n",
      "      21.      In the Salary Race, Engineers Sprint but English Majors Endure (nytimes.com)\n",
      "        28 points by tlb 5 hours ago  | hide | 31&nbsp;comments              \n",
      "      \n",
      "                \n",
      "      22.      Woman discovers Renaissance masterpiece in kitchen (theguardian.com)\n",
      "        10 points by pionerkotik 2 hours ago  | hide | 2&nbsp;comments              \n",
      "      \n",
      "                \n",
      "      23.      Talos: OS for Kubernetes (talos-systems.com)\n",
      "        64 points by stevetodd 8 hours ago  | hide | 57&nbsp;comments              \n",
      "      \n",
      "                \n",
      "      24.      Four Years in Startups (newyorker.com)\n",
      "        119 points by pdog 10 hours ago  | hide | 27&nbsp;comments              \n",
      "      \n",
      "                \n",
      "      25.      ZeroTier 2.0 Status (zerotier.com)\n",
      "        30 points by viraptor 5 hours ago  | hide | 15&nbsp;comments              \n",
      "      \n",
      "                \n",
      "      26.      Brain research on boys’ preference for video games and girls’ for social media (wsj.com)\n",
      "        186 points by bookofjoe 12 hours ago  | hide | 139&nbsp;comments              \n",
      "      \n",
      "                \n",
      "      27.      Xilinx FPGA Board for Arduino (seeedstudio.com)\n",
      "        31 points by achuwilson 5 hours ago  | hide | 21&nbsp;comments              \n",
      "      \n",
      "                \n",
      "      28.      America’s New Sex Bureaucracy (tabletmag.com)\n",
      "        184 points by hooboy 8 hours ago  | hide | 194&nbsp;comments              \n",
      "      \n",
      "                \n",
      "      29.      Launch HN: Quilt – A versioned data portal for S3\n",
      "        143 points by akarve 12 hours ago  | hide | 56&nbsp;comments              \n",
      "      \n",
      "                \n",
      "      30.      El-Kurru’s Carved Graffiti Reveal Another Side of Ancient Nubia (atlasobscura.com)\n",
      "        15 points by prismatic 5 hours ago  | hide | 1&nbsp;comment              \n",
      "      \n",
      "            More\n",
      "  \n",
      "\n",
      "\n",
      "        Applications are open for YC Winter 2020\n",
      "      Guidelines\n",
      "        | FAQ\n",
      "        | Support\n",
      "        | API\n",
      "        | Security\n",
      "        | Lists\n",
      "        | Bookmarklet\n",
      "        | Legal\n",
      "        | Apply to YC\n",
      "        | ContactSearch:\n",
      "          \n",
      "            \n",
      "      \n",
      "  \n",
      "\n"
     ]
    }
   ],
   "source": [
    "import re\n",
    "\n",
    "# Remove HTML tags using RegEx\n",
    "pattern = re.compile(r'<.*?>')  # tags look like <...>\n",
    "print(pattern.sub('', r.text))  # replace them with blank"
   ]
  },
  {
   "cell_type": "code",
   "execution_count": 7,
   "metadata": {},
   "outputs": [
    {
     "name": "stdout",
     "output_type": "stream",
     "text": [
      "\n",
      "            \n",
      "          \n",
      "        Hacker News\n",
      "        \n",
      "                  Hacker News\n",
      "              new | past | comments | ask | show | jobs | submit            \n",
      "                              login\n",
      "                          \n",
      "              \n",
      "\n",
      "              \n",
      "      1.      Bike crash left Spokane man unconscious, so his Apple Watch called 911 (seattletimes.com)\n",
      "        706 points by throwaway413 9 hours ago  | hide | 413 comments              \n",
      "      \n",
      "                \n",
      "      2.      WeWork’s Adam Neumann Steps Down as CEO (wsj.com)\n",
      "        625 points by mudil 14 hours ago  | hide | 471 comments              \n",
      "      \n",
      "                \n",
      "      3.      V8 adds support for top-level await (googlesource.com)\n",
      "        271 points by hayd 9 hours ago  | hide | 203 comments              \n",
      "      \n",
      "                \n",
      "      4.      Graal Autovectorization (github.com)\n",
      "        15 points by luu 1 hour ago  | hide | discuss              \n",
      "      \n",
      "                \n",
      "      5.      Reverse engineering a custom CPU from a single program (robertxiao.ca)\n",
      "        178 points by nneonneo 7 hours ago  | hide | 13 comments              \n",
      "      \n",
      "                \n",
      "      6.      Google Chrome Keystone is modifying /var symlink on non SIP Macs causing k-panic (mrmacintosh.com)\n",
      "        269 points by frandroid 9 hours ago  | hide | 155 comments              \n",
      "      \n",
      "                \n",
      "      7.      Tape still beats SSDs and hard drives when it comes to price per byte (techradar.com)\n",
      "        124 points by jaytaylor 7 hours ago  | hide | 107 comments              \n",
      "      \n",
      "                \n",
      "      8.      OSSU: A path to a free self-taught education in computer science (github.com)\n",
      "        352 points by paulygarcia 13 hours ago  | hide | 127 comments              \n",
      "      \n",
      "                \n",
      "      9.      Woman who mistook wasabi for avocado hospitalized with 'broken heart syndrome’ (bmj.com)\n",
      "        23 points by johanam 1 hour ago  | hide | 5 comments              \n",
      "      \n",
      "                \n",
      "      10.      Performance metrics for web apps (superhuman.com)\n",
      "        113 points by yarapavan 6 hours ago  | hide | 16 comments              \n",
      "      \n",
      "                \n",
      "      11.      Scale AI is hiring engineers to accelerate the development of AI (scale.com)\n",
      "        39 minutes ago | hide      \n",
      "      \n",
      "                \n",
      "      12.      The Most Misused SSN of All Time (ssa.gov)\n",
      "        30 points by polm23 3 hours ago  | hide | 10 comments              \n",
      "      \n",
      "                \n",
      "      13.      Apple is evaluating new keyboard mechanisms to make thinner MacBooks (appleinsider.com)\n",
      "        70 points by protomyth 6 hours ago  | hide | 185 comments              \n",
      "      \n",
      "                \n",
      "      14.      On Polysemous Mathematical Illustration [video] (brown.edu)\n",
      "        15 points by mathgenius 2 hours ago  | hide | discuss              \n",
      "      \n",
      "                \n",
      "      15.      Prashanth Chandrasekar Replacing Joel Spolsky as Stack Overflow CEO (stackoverflow.blog)\n",
      "        302 points by matrixunloaded 14 hours ago  | hide | 148 comments              \n",
      "      \n",
      "                \n",
      "      16.      The Saudis Are Lying About Their Oil Production? (oilprice.com)\n",
      "        270 points by olivermarks 12 hours ago  | hide | 194 comments              \n",
      "      \n",
      "                \n",
      "      17.      Amazon launches Amazon Care, a virtual medical clinic for employees (cnbc.com)\n",
      "        85 points by t23 10 hours ago  | hide | 41 comments              \n",
      "      \n",
      "                \n",
      "      18.      We are clueless about how long things should take (kyleprifogle.com)\n",
      "        65 points by yachtman 3 hours ago  | hide | 23 comments              \n",
      "      \n",
      "                \n",
      "      19.      Looking Back at the Snowden Revelations (cryptographyengineering.com)\n",
      "        7 points by sohkamyung 1 hour ago  | hide | discuss              \n",
      "      \n",
      "                \n",
      "      20.      In Russia’s Space Graveyard, Locals Scavenge Fallen Spacecraft (2018) (discovermagazine.com)\n",
      "        68 points by justincormack 8 hours ago  | hide | 17 comments              \n",
      "      \n",
      "                \n",
      "      21.      In the Salary Race, Engineers Sprint but English Majors Endure (nytimes.com)\n",
      "        28 points by tlb 5 hours ago  | hide | 31 comments              \n",
      "      \n",
      "                \n",
      "      22.      Woman discovers Renaissance masterpiece in kitchen (theguardian.com)\n",
      "        10 points by pionerkotik 2 hours ago  | hide | 2 comments              \n",
      "      \n",
      "                \n",
      "      23.      Talos: OS for Kubernetes (talos-systems.com)\n",
      "        64 points by stevetodd 8 hours ago  | hide | 57 comments              \n",
      "      \n",
      "                \n",
      "      24.      Four Years in Startups (newyorker.com)\n",
      "        119 points by pdog 10 hours ago  | hide | 27 comments              \n",
      "      \n",
      "                \n",
      "      25.      ZeroTier 2.0 Status (zerotier.com)\n",
      "        30 points by viraptor 5 hours ago  | hide | 15 comments              \n",
      "      \n",
      "                \n",
      "      26.      Brain research on boys’ preference for video games and girls’ for social media (wsj.com)\n",
      "        186 points by bookofjoe 12 hours ago  | hide | 139 comments              \n",
      "      \n",
      "                \n",
      "      27.      Xilinx FPGA Board for Arduino (seeedstudio.com)\n",
      "        31 points by achuwilson 5 hours ago  | hide | 21 comments              \n",
      "      \n",
      "                \n",
      "      28.      America’s New Sex Bureaucracy (tabletmag.com)\n",
      "        184 points by hooboy 8 hours ago  | hide | 194 comments              \n",
      "      \n",
      "                \n",
      "      29.      Launch HN: Quilt – A versioned data portal for S3\n",
      "        143 points by akarve 12 hours ago  | hide | 56 comments              \n",
      "      \n",
      "                \n",
      "      30.      El-Kurru’s Carved Graffiti Reveal Another Side of Ancient Nubia (atlasobscura.com)\n",
      "        15 points by prismatic 5 hours ago  | hide | 1 comment              \n",
      "      \n",
      "            More\n",
      "  \n",
      "\n",
      "\n",
      "        Applications are open for YC Winter 2020\n",
      "      Guidelines\n",
      "        | FAQ\n",
      "        | Support\n",
      "        | API\n",
      "        | Security\n",
      "        | Lists\n",
      "        | Bookmarklet\n",
      "        | Legal\n",
      "        | Apply to YC\n",
      "        | ContactSearch:\n",
      "          \n",
      "            \n",
      "      \n",
      "  \n",
      "\n"
     ]
    }
   ],
   "source": [
    "from bs4 import BeautifulSoup\n",
    "\n",
    "# Remove HTML tags using Beautiful Soup library\n",
    "soup = BeautifulSoup(r.text, \"html5lib\")\n",
    "print(soup.get_text())"
   ]
  },
  {
   "cell_type": "code",
   "execution_count": 8,
   "metadata": {
    "scrolled": true
   },
   "outputs": [
    {
     "data": {
      "text/plain": [
       "<tr class=\"athing\" id=\"21064942\">\n",
       "      <td align=\"right\" class=\"title\" valign=\"top\"><span class=\"rank\">1.</span></td>      <td class=\"votelinks\" valign=\"top\"><center><a href=\"vote?id=21064942&amp;how=up&amp;goto=news\" id=\"up_21064942\"><div class=\"votearrow\" title=\"upvote\"></div></a></center></td><td class=\"title\"><a class=\"storylink\" href=\"https://www.seattletimes.com/seattle-news/bike-crash-left-spokane-man-unconscious-but-his-apple-watch-called-911\">Bike crash left Spokane man unconscious, so his Apple Watch called 911</a><span class=\"sitebit comhead\"> (<a href=\"from?site=seattletimes.com\"><span class=\"sitestr\">seattletimes.com</span></a>)</span></td></tr>"
      ]
     },
     "execution_count": 8,
     "metadata": {},
     "output_type": "execute_result"
    }
   ],
   "source": [
    "# Find all articles\n",
    "summaries = soup.find_all(\"tr\", class_=\"athing\")\n",
    "summaries[0]"
   ]
  },
  {
   "cell_type": "code",
   "execution_count": 9,
   "metadata": {},
   "outputs": [
    {
     "data": {
      "text/plain": [
       "'Bike crash left Spokane man unconscious, so his Apple Watch called 911'"
      ]
     },
     "execution_count": 9,
     "metadata": {},
     "output_type": "execute_result"
    }
   ],
   "source": [
    "# Extract title\n",
    "summaries[0].find(\"a\", class_=\"storylink\").get_text().strip()"
   ]
  },
  {
   "cell_type": "code",
   "execution_count": 10,
   "metadata": {},
   "outputs": [
    {
     "name": "stdout",
     "output_type": "stream",
     "text": [
      "30 Article summaries found. Sample:\n",
      "Bike crash left Spokane man unconscious, so his Apple Watch called 911\n"
     ]
    }
   ],
   "source": [
    "# Find all articles, extract titles\n",
    "articles = []\n",
    "summaries = soup.find_all(\"tr\", class_=\"athing\")\n",
    "for summary in summaries:\n",
    "    title = summary.find(\"a\", class_=\"storylink\").get_text().strip()\n",
    "    articles.append((title))\n",
    "\n",
    "print(len(articles), \"Article summaries found. Sample:\")\n",
    "print(articles[0])"
   ]
  },
  {
   "cell_type": "markdown",
   "metadata": {
    "collapsed": true
   },
   "source": [
    "## Normalization"
   ]
  },
  {
   "cell_type": "markdown",
   "metadata": {},
   "source": [
    "### Case Normalization"
   ]
  },
  {
   "cell_type": "code",
   "execution_count": 11,
   "metadata": {},
   "outputs": [
    {
     "name": "stdout",
     "output_type": "stream",
     "text": [
      "The first time you see The Second Renaissance it may look boring. Look at it at least twice and definitely watch part 2. It will change your view of the matrix. Are the human people the ones who started the war ? Is AI a bad thing ?\n"
     ]
    }
   ],
   "source": [
    "# Sample text\n",
    "text = \"The first time you see The Second Renaissance it may look boring. Look at it at least twice and definitely watch part 2. It will change your view of the matrix. Are the human people the ones who started the war ? Is AI a bad thing ?\"\n",
    "print(text)"
   ]
  },
  {
   "cell_type": "code",
   "execution_count": 12,
   "metadata": {},
   "outputs": [
    {
     "name": "stdout",
     "output_type": "stream",
     "text": [
      "the first time you see the second renaissance it may look boring. look at it at least twice and definitely watch part 2. it will change your view of the matrix. are the human people the ones who started the war ? is ai a bad thing ?\n"
     ]
    }
   ],
   "source": [
    "# Convert to lowercase\n",
    "text = text.lower() \n",
    "print(text)"
   ]
  },
  {
   "cell_type": "markdown",
   "metadata": {},
   "source": [
    "### Punctuation Removal"
   ]
  },
  {
   "cell_type": "code",
   "execution_count": 13,
   "metadata": {},
   "outputs": [
    {
     "name": "stdout",
     "output_type": "stream",
     "text": [
      "the first time you see the second renaissance it may look boring  look at it at least twice and definitely watch part 2  it will change your view of the matrix  are the human people the ones who started the war   is ai a bad thing  \n"
     ]
    }
   ],
   "source": [
    "import re\n",
    "\n",
    "# Remove punctuation characters\n",
    "text = re.sub(r\"[^a-zA-Z0-9]\", \" \", text) \n",
    "print(text)"
   ]
  },
  {
   "cell_type": "markdown",
   "metadata": {},
   "source": [
    "## Tokenization"
   ]
  },
  {
   "cell_type": "code",
   "execution_count": 14,
   "metadata": {},
   "outputs": [
    {
     "name": "stdout",
     "output_type": "stream",
     "text": [
      "['the', 'first', 'time', 'you', 'see', 'the', 'second', 'renaissance', 'it', 'may', 'look', 'boring', 'look', 'at', 'it', 'at', 'least', 'twice', 'and', 'definitely', 'watch', 'part', '2', 'it', 'will', 'change', 'your', 'view', 'of', 'the', 'matrix', 'are', 'the', 'human', 'people', 'the', 'ones', 'who', 'started', 'the', 'war', 'is', 'ai', 'a', 'bad', 'thing']\n"
     ]
    }
   ],
   "source": [
    "# Split text into tokens (words)\n",
    "words = text.split()\n",
    "print(words)"
   ]
  },
  {
   "cell_type": "markdown",
   "metadata": {},
   "source": [
    "### NLTK: Natural Language ToolKit"
   ]
  },
  {
   "cell_type": "code",
   "execution_count": 15,
   "metadata": {},
   "outputs": [],
   "source": [
    "import os\n",
    "import nltk\n",
    "nltk.data.path.append(os.path.join(os.getcwd(), \"nltk_data\"))"
   ]
  },
  {
   "cell_type": "code",
   "execution_count": 16,
   "metadata": {},
   "outputs": [
    {
     "name": "stdout",
     "output_type": "stream",
     "text": [
      "Dr. Smith graduated from the University of Washington. He later started an analytics firm called Lux, which catered to enterprise customers.\n"
     ]
    }
   ],
   "source": [
    "# Another sample text\n",
    "text = \"Dr. Smith graduated from the University of Washington. He later started an analytics firm called Lux, which catered to enterprise customers.\"\n",
    "print(text)"
   ]
  },
  {
   "cell_type": "code",
   "execution_count": 17,
   "metadata": {},
   "outputs": [
    {
     "name": "stdout",
     "output_type": "stream",
     "text": [
      "['Dr.', 'Smith', 'graduated', 'from', 'the', 'University', 'of', 'Washington', '.', 'He', 'later', 'started', 'an', 'analytics', 'firm', 'called', 'Lux', ',', 'which', 'catered', 'to', 'enterprise', 'customers', '.']\n"
     ]
    }
   ],
   "source": [
    "from nltk.tokenize import word_tokenize\n",
    "\n",
    "try:\n",
    "    nltk.data.find('tokenizers/punkt')\n",
    "except LookupError:\n",
    "    nltk.download('punkt')\n",
    "\n",
    "# Split text into words using NLTK\n",
    "words = word_tokenize(text)\n",
    "print(words)"
   ]
  },
  {
   "cell_type": "code",
   "execution_count": 18,
   "metadata": {},
   "outputs": [
    {
     "name": "stdout",
     "output_type": "stream",
     "text": [
      "['Dr. Smith graduated from the University of Washington.', 'He later started an analytics firm called Lux, which catered to enterprise customers.']\n"
     ]
    }
   ],
   "source": [
    "from nltk.tokenize import sent_tokenize\n",
    "\n",
    "# Split text into sentences\n",
    "sentences = sent_tokenize(text)\n",
    "print(sentences)"
   ]
  },
  {
   "cell_type": "code",
   "execution_count": 19,
   "metadata": {},
   "outputs": [
    {
     "name": "stdout",
     "output_type": "stream",
     "text": [
      "['i', 'me', 'my', 'myself', 'we', 'our', 'ours', 'ourselves', 'you', \"you're\", \"you've\", \"you'll\", \"you'd\", 'your', 'yours', 'yourself', 'yourselves', 'he', 'him', 'his', 'himself', 'she', \"she's\", 'her', 'hers', 'herself', 'it', \"it's\", 'its', 'itself', 'they', 'them', 'their', 'theirs', 'themselves', 'what', 'which', 'who', 'whom', 'this', 'that', \"that'll\", 'these', 'those', 'am', 'is', 'are', 'was', 'were', 'be', 'been', 'being', 'have', 'has', 'had', 'having', 'do', 'does', 'did', 'doing', 'a', 'an', 'the', 'and', 'but', 'if', 'or', 'because', 'as', 'until', 'while', 'of', 'at', 'by', 'for', 'with', 'about', 'against', 'between', 'into', 'through', 'during', 'before', 'after', 'above', 'below', 'to', 'from', 'up', 'down', 'in', 'out', 'on', 'off', 'over', 'under', 'again', 'further', 'then', 'once', 'here', 'there', 'when', 'where', 'why', 'how', 'all', 'any', 'both', 'each', 'few', 'more', 'most', 'other', 'some', 'such', 'no', 'nor', 'not', 'only', 'own', 'same', 'so', 'than', 'too', 'very', 's', 't', 'can', 'will', 'just', 'don', \"don't\", 'should', \"should've\", 'now', 'd', 'll', 'm', 'o', 're', 've', 'y', 'ain', 'aren', \"aren't\", 'couldn', \"couldn't\", 'didn', \"didn't\", 'doesn', \"doesn't\", 'hadn', \"hadn't\", 'hasn', \"hasn't\", 'haven', \"haven't\", 'isn', \"isn't\", 'ma', 'mightn', \"mightn't\", 'mustn', \"mustn't\", 'needn', \"needn't\", 'shan', \"shan't\", 'shouldn', \"shouldn't\", 'wasn', \"wasn't\", 'weren', \"weren't\", 'won', \"won't\", 'wouldn', \"wouldn't\"]\n"
     ]
    }
   ],
   "source": [
    "# List stop words\n",
    "from nltk.corpus import stopwords\n",
    "print(stopwords.words(\"english\"))"
   ]
  },
  {
   "cell_type": "code",
   "execution_count": 20,
   "metadata": {},
   "outputs": [
    {
     "name": "stdout",
     "output_type": "stream",
     "text": [
      "['the', 'first', 'time', 'you', 'see', 'the', 'second', 'renaissance', 'it', 'may', 'look', 'boring', 'look', 'at', 'it', 'at', 'least', 'twice', 'and', 'definitely', 'watch', 'part', '2', 'it', 'will', 'change', 'your', 'view', 'of', 'the', 'matrix', 'are', 'the', 'human', 'people', 'the', 'ones', 'who', 'started', 'the', 'war', 'is', 'ai', 'a', 'bad', 'thing']\n"
     ]
    }
   ],
   "source": [
    "# Reset text\n",
    "text = \"The first time you see The Second Renaissance it may look boring. Look at it at least twice and definitely watch part 2. It will change your view of the matrix. Are the human people the ones who started the war ? Is AI a bad thing ?\"\n",
    "\n",
    "# Normalize it\n",
    "text = re.sub(r\"[^a-zA-Z0-9]\", \" \", text.lower())\n",
    "\n",
    "# Tokenize it\n",
    "words = text.split()\n",
    "print(words)"
   ]
  },
  {
   "cell_type": "code",
   "execution_count": 21,
   "metadata": {},
   "outputs": [
    {
     "name": "stdout",
     "output_type": "stream",
     "text": [
      "['first', 'time', 'see', 'second', 'renaissance', 'may', 'look', 'boring', 'look', 'least', 'twice', 'definitely', 'watch', 'part', '2', 'change', 'view', 'matrix', 'human', 'people', 'ones', 'started', 'war', 'ai', 'bad', 'thing']\n"
     ]
    }
   ],
   "source": [
    "# Remove stop words\n",
    "words = [w for w in words if w not in stopwords.words(\"english\")]\n",
    "print(words)"
   ]
  },
  {
   "cell_type": "markdown",
   "metadata": {},
   "source": [
    "### Sentence Parsing"
   ]
  },
  {
   "cell_type": "code",
   "execution_count": 22,
   "metadata": {},
   "outputs": [
    {
     "name": "stdout",
     "output_type": "stream",
     "text": [
      "(S\n",
      "  (NP I)\n",
      "  (VP\n",
      "    (VP (V shot) (NP (Det an) (N elephant)))\n",
      "    (PP (P in) (NP (Det my) (N pajamas)))))\n",
      "(S\n",
      "  (NP I)\n",
      "  (VP\n",
      "    (V shot)\n",
      "    (NP (Det an) (N elephant) (PP (P in) (NP (Det my) (N pajamas))))))\n"
     ]
    }
   ],
   "source": [
    "import nltk\n",
    "\n",
    "# Define a custom grammar\n",
    "my_grammar = nltk.CFG.fromstring(\"\"\"\n",
    "S -> NP VP\n",
    "PP -> P NP\n",
    "NP -> Det N | Det N PP | 'I'\n",
    "VP -> V NP | VP PP\n",
    "Det -> 'an' | 'my'\n",
    "N -> 'elephant' | 'pajamas'\n",
    "V -> 'shot'\n",
    "P -> 'in'\n",
    "\"\"\")\n",
    "parser = nltk.ChartParser(my_grammar)\n",
    "\n",
    "# Parse a sentence\n",
    "sentence = word_tokenize(\"I shot an elephant in my pajamas\")\n",
    "for tree in parser.parse(sentence):\n",
    "    print(tree)"
   ]
  },
  {
   "cell_type": "markdown",
   "metadata": {},
   "source": [
    "## Stemming & Lemmatization\n",
    "\n",
    "### Stemming"
   ]
  },
  {
   "cell_type": "code",
   "execution_count": 23,
   "metadata": {},
   "outputs": [
    {
     "name": "stdout",
     "output_type": "stream",
     "text": [
      "['first', 'time', 'see', 'second', 'renaiss', 'may', 'look', 'bore', 'look', 'least', 'twice', 'definit', 'watch', 'part', '2', 'chang', 'view', 'matrix', 'human', 'peopl', 'one', 'start', 'war', 'ai', 'bad', 'thing']\n"
     ]
    }
   ],
   "source": [
    "from nltk.stem.porter import PorterStemmer\n",
    "\n",
    "# Reduce words to their stems\n",
    "stemmed = [PorterStemmer().stem(w) for w in words]\n",
    "print(stemmed)"
   ]
  },
  {
   "cell_type": "markdown",
   "metadata": {},
   "source": [
    "### Lemmatization"
   ]
  },
  {
   "cell_type": "code",
   "execution_count": 24,
   "metadata": {},
   "outputs": [
    {
     "name": "stderr",
     "output_type": "stream",
     "text": [
      "[nltk_data] Downloading package wordnet to\n",
      "[nltk_data]     C:\\Users\\saanvi\\AppData\\Roaming\\nltk_data...\n",
      "[nltk_data]   Package wordnet is already up-to-date!\n"
     ]
    },
    {
     "name": "stdout",
     "output_type": "stream",
     "text": [
      "['first', 'time', 'see', 'second', 'renaissance', 'may', 'look', 'boring', 'look', 'least', 'twice', 'definitely', 'watch', 'part', '2', 'change', 'view', 'matrix', 'human', 'people', 'one', 'started', 'war', 'ai', 'bad', 'thing']\n"
     ]
    }
   ],
   "source": [
    "from nltk.stem.wordnet import WordNetLemmatizer\n",
    "\n",
    "nltk.download('wordnet')\n",
    "\n",
    "# Reduce words to their root form\n",
    "lemmed = [WordNetLemmatizer().lemmatize(w) for w in words]\n",
    "print(lemmed)"
   ]
  },
  {
   "cell_type": "code",
   "execution_count": 25,
   "metadata": {},
   "outputs": [
    {
     "name": "stdout",
     "output_type": "stream",
     "text": [
      "['first', 'time', 'see', 'second', 'renaissance', 'may', 'look', 'bore', 'look', 'least', 'twice', 'definitely', 'watch', 'part', '2', 'change', 'view', 'matrix', 'human', 'people', 'one', 'start', 'war', 'ai', 'bad', 'thing']\n"
     ]
    }
   ],
   "source": [
    "# Lemmatize verbs by specifying pos\n",
    "lemmed = [WordNetLemmatizer().lemmatize(w, pos='v') for w in lemmed]\n",
    "print(lemmed)"
   ]
  }
 ],
 "metadata": {
  "kernelspec": {
   "display_name": "Python 3",
   "language": "python",
   "name": "python3"
  },
  "language_info": {
   "codemirror_mode": {
    "name": "ipython",
    "version": 3
   },
   "file_extension": ".py",
   "mimetype": "text/x-python",
   "name": "python",
   "nbconvert_exporter": "python",
   "pygments_lexer": "ipython3",
   "version": "3.7.3"
  }
 },
 "nbformat": 4,
 "nbformat_minor": 2
}
